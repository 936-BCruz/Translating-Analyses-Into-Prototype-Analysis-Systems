{
 "cells": [
  {
   "cell_type": "markdown",
   "id": "occupational-siemens",
   "metadata": {},
   "source": [
    "This code is a translation of the CMS Higgs to 4 leptons analysis from https://github.com/cms-opendata-analyses/HiggsExample20112012/blob/master/HiggsDemoAnalyzer/src/HiggsDemoAnalyzerGit.cc. \n",
    "\n",
    "It performs the analsysis on a NTuple of http://opendata.cern.ch/record/1507, produced using the EDAnalyzer of the following Outreach Tool, https://github.com/cms-opendata-analyses/AOD2NanoAODOutreachTool/blob/master/src/AOD2NanoAOD.cc. It then produces and saves the histograms for the Higgs to 4 muons, 4 electrons and 2muons2electrons decays."
   ]
  },
  {
   "cell_type": "code",
   "execution_count": 1,
   "id": "specialized-river",
   "metadata": {},
   "outputs": [],
   "source": [
    "### imports ###\n",
    "import numpy as np\n",
    "import matplotlib.pyplot as plt\n",
    "import awkward as ak\n",
    "from coffea.nanoevents import NanoEventsFactory, BaseSchema, NanoAODSchema"
   ]
  },
  {
   "cell_type": "code",
   "execution_count": 2,
   "id": "valuable-peeing",
   "metadata": {},
   "outputs": [],
   "source": [
    "### constants ### \n",
    "\n",
    "# Z boson mass\n",
    "mZ = 91.1876 # GeV\n",
    "\n",
    "# histogram binning\n",
    "bins = np.arange(70, 184, 3)"
   ]
  },
  {
   "cell_type": "markdown",
   "id": "negative-progress",
   "metadata": {},
   "source": [
    "The following three cells each gets the 4-leptons-decay-mass branch from their respective TTree from the HiggsExample20112012 NTuples, which I named *giteda*, in the NanoAOD.\n",
    "\n",
    "The python configuration file I ran included both the Outreach Tool and HiggsExample20112012 EDAnalyzers, so these cells may not run for you unless you do the same."
   ]
  },
  {
   "cell_type": "code",
   "execution_count": 3,
   "id": "grave-sound",
   "metadata": {},
   "outputs": [],
   "source": [
    "### original code histograms ###\n",
    "\n",
    "## 4 muons starts ##\n",
    "# 4muon TTree\n",
    "original_4mu = NanoEventsFactory.from_root(\n",
    "        \"\\\\Users\\\\bocr9\\\\shared-folder\\\\2011MCNtuples.root\",\n",
    "        \"giteda/tree4mu\",\n",
    "        schemaclass=NanoAODSchema\n",
    ").events()\n",
    "\n",
    "# Higgs -> 4 muons mass branch\n",
    "original_Higgs_4mu = original_4mu.mass4mu\n",
    "\n",
    "## 4 muons end ##"
   ]
  },
  {
   "cell_type": "code",
   "execution_count": 4,
   "id": "active-sullivan",
   "metadata": {},
   "outputs": [],
   "source": [
    "## 4 electrons starts ##\n",
    "\n",
    "# 4electron TTree\n",
    "original_4e = NanoEventsFactory.from_root(\n",
    "        \"\\\\Users\\\\bocr9\\\\shared-folder\\\\2011MCNtuples.root\",\n",
    "        \"giteda/tree4e\",\n",
    "        schemaclass=NanoAODSchema\n",
    ").events()\n",
    "\n",
    "# Higgs -> 4 electrons mass branch\n",
    "original_Higgs_4e = original_4e.mass4e\n",
    "\n",
    "## 4 electrons ends ##"
   ]
  },
  {
   "cell_type": "code",
   "execution_count": 5,
   "id": "metallic-colors",
   "metadata": {},
   "outputs": [],
   "source": [
    "## 2 muons, 2 electrons starts ##\n",
    "\n",
    "# 2mu2e TTree\n",
    "original_2mu2e = NanoEventsFactory.from_root(\n",
    "        \"\\\\Users\\\\bocr9\\\\shared-folder\\\\2011MCNtuples.root\",\n",
    "        \"giteda/tree2mu2e\",\n",
    "        schemaclass=NanoAODSchema\n",
    ").events()\n",
    "\n",
    "# Higgs -> 2mu2e mass branch\n",
    "original_Higgs_2mu2e = original_2mu2e.mass2mu2e\n",
    "\n",
    "## 2 muons, 2 electrons ends ##\n",
    "\n",
    "\n",
    "### original code histogram ends ###"
   ]
  },
  {
   "cell_type": "markdown",
   "id": "driven-mediterranean",
   "metadata": {},
   "source": [
    "This cell gets the Events TTree from the Outreach Tool's NTuple, named *aod2nanoaod*, in the NanoAOD. Then, it selects the Muon and Electron branches from the Events, storing them on the variables *Muons* and *Electrons*, respectively."
   ]
  },
  {
   "cell_type": "code",
   "execution_count": 6,
   "id": "willing-bloom",
   "metadata": {},
   "outputs": [],
   "source": [
    "### Outreach Tool code histograms starts ### \n",
    "\n",
    "## TTree selection\n",
    "aod2naod = NanoEventsFactory.from_root(\n",
    "        \"\\\\Users\\\\bocr9\\\\shared-folder\\\\2011MCNtuples.root\",\n",
    "        \"aod2nanoaod/Events\",\n",
    "        schemaclass=NanoAODSchema\n",
    ").events()\n",
    "\n",
    "## Branch selection\n",
    "Muons = aod2naod.Muon\n",
    "\n",
    "Electrons = aod2naod.Electron"
   ]
  },
  {
   "cell_type": "markdown",
   "id": "common-aquarium",
   "metadata": {},
   "source": [
    "This cell performs the first part of the Higgs decay to 4 leptons analysis. It slices to the *Muons* and *Electrons* variables based on the values their parameters must meet."
   ]
  },
  {
   "cell_type": "code",
   "execution_count": 7,
   "id": "theoretical-government",
   "metadata": {},
   "outputs": [],
   "source": [
    "## good object selection\n",
    "\n",
    "# good muons\n",
    "good_mu = Muons[ (np.abs(np.sqrt(Muons.dxy**2+Muons.dz**2)/np.sqrt(Muons.dxyErr**2+Muons.dzErr**2))<4) &\n",
    "                 (np.abs(Muons.dxy)<0.5) &\n",
    "                 (np.abs(Muons.dz)<1) &\n",
    "                 (np.abs(Muons.pfRelIso04_all)<0.4) &\n",
    "                 (Muons.pt>5) &\n",
    "                 (np.abs(Muons.eta)<2.4) ]\n",
    "\n",
    "# good electrons\n",
    "good_e = Electrons[ (Electrons.pt>7) & \n",
    "                    (np.abs(Electrons.eta)<2.5) &\n",
    "                    (np.abs(np.sqrt(Electrons.dxy**2+Electrons.dz**2)/np.sqrt(Electrons.dxyErr**2+Electrons.dzErr**2))<4) &\n",
    "                    (np.abs(Electrons.pfRelIso03_all)<0.4) & \n",
    "                    (np.abs(Electrons.dxy)<0.5) &\n",
    "                    (np.abs(Electrons.dz)<1) ]"
   ]
  },
  {
   "cell_type": "markdown",
   "id": "falling-shopper",
   "metadata": {},
   "source": [
    "This cell contains a function which will be used for the Higgs to 4 muons and 4 electrons decays. It calculates the closest Z boson from the pairs of muons or electrons masses that have a net charge of zero, returning a boolean to apply as a cut to pairs of muons or electrons to find the good candidates of ZZ the Higgs decayed into, before decaying into the 4 leptons."
   ]
  },
  {
   "cell_type": "code",
   "execution_count": 8,
   "id": "mineral-machine",
   "metadata": {},
   "outputs": [],
   "source": [
    "# function that finds the best combination of pairs with a mass closest to the real Z mass\n",
    "def closest(pair):\n",
    "    delta = abs(91.1876 - pair.mass[:])\n",
    "    closest_masses = np.min(delta, axis=-1)\n",
    "    the_closest = (delta == closest_masses)\n",
    "    return the_closest "
   ]
  },
  {
   "cell_type": "markdown",
   "id": "deluxe-romania",
   "metadata": {},
   "source": [
    "This cells performs the rest of the analysis on the Higgs decay to 4 muons. In order, it...\n",
    "* selects the entries of the good muons that contain 4 or more muons.\n",
    "* sorts the entries of 4 muons from highest to lowest transverse momentum, pt.\n",
    "* selects the first 4 muons from each element of the sorted array.\n",
    "* selects the entries of the array whose 4 muons net charge is zero.\n",
    "* makes unique pairs out of the 4 muons from every element of the *f4c0_mu4* array. \n",
    "* selects the unique pairs with a net charge of zero. \n",
    "* uses the *closest* function to find the closest Z boson from the muon pairs, *Za_muons*; flip *Za_muons* to get the farthest Z bosons from the muons pairs, *Zb_muons*.\n",
    "* apply the boolean returned from the *closest* muon pairs, *Za_muons* and *Zb_muons*, to the *muon_pair_c0* array, to get the best muon pairs that decayed from these Z bosons.\n",
    "* flatten these arrays to lose their awkward-array nature.\n",
    "* get the mass cut for *Za_mu* and *Zb_mu*.\n",
    "* get the pt cut for the *Za_mu* muons.\n",
    "* apply the mass and pt cuts to *Za_mu* and *Zb_mu* to get the good Za and good Zb that decayed from the Higgs boson.\n",
    "* perform a sum of the first two muons of every element from *good_Za_mu* and *good_Zb_mu* to get the Higgs boson.\n",
    "* apply a mass cut to get the entries with a Higgs mass greater than 70 GeV."
   ]
  },
  {
   "cell_type": "code",
   "execution_count": 9,
   "id": "sorted-texas",
   "metadata": {},
   "outputs": [],
   "source": [
    "### Higgs to 4 muons ###\n",
    "\n",
    "# entries with 4 muons\n",
    "mu4 = good_mu[ak.num(good_mu) >= 4]\n",
    "\n",
    "# sort the events from highest to lowest transverse momentum\n",
    "mu4_sorted = mu4[ak.argsort(mu4.pt, axis=-1, ascending=False)]\n",
    "\n",
    "# select the first 4 muons from the sorted mu4\n",
    "f4_mu4_sorted = mu4_sorted[:,0:4]\n",
    "\n",
    "# select the 4 muons with a zero net charge\n",
    "f4c0_mu4_sorted = f4_mu4_sorted[ak.sum(f4_mu4_sorted[:,:,\"charge\"], axis=-1) == 0]\n",
    "\n",
    "# creating muon pairs\n",
    "muon_pair = ak.combinations(f4c0_mu4_sorted, 2)\n",
    "\n",
    "# combinations with zero net charge\n",
    "muon_pair_c0 = muon_pair[(muon_pair[\"0\"].charge + muon_pair[\"1\"].charge)==0]\n",
    "\n",
    "# get the closest Z boson (Za) and farthest Z boson (Zb)\n",
    "Z_muons = (muon_pair_c0[\"0\"] + muon_pair_c0[\"1\"])\n",
    "Za_muons = closest(Z_muons)\n",
    "Zb_muons = Za_muons[:,::-1]\n",
    "\n",
    "# best combination of muons\n",
    "Za_2mu = muon_pair_c0[Za_muons]\n",
    "Zb_2mu = muon_pair_c0[Zb_muons]\n",
    "\n",
    "# flatten the arrays\n",
    "Za_mu = ak.flatten(Za_2mu)\n",
    "Zb_mu = ak.flatten(Zb_2mu)\n",
    "\n",
    "# Mass requirement \n",
    "M_Za_mu = (((Za_mu[\"0\"]+Za_mu[\"1\"]).mass>40)&((Za_mu[\"0\"]+Za_mu[\"1\"]).mass<120))\n",
    "M_Zb_mu = (((Zb_mu[\"0\"]+Zb_mu[\"1\"]).mass>12)&((Zb_mu[\"0\"]+Zb_mu[\"1\"]).mass<120))\n",
    "\n",
    "# Transverse momentum requirement\n",
    "pt_Z_mu = (Za_mu[\"0\"].pt>20)&(Za_mu[\"1\"].pt>10)\n",
    "\n",
    "# applying the cuts to get the good Z bosons\n",
    "good_Za_mu = Za_mu[pt_Z_mu&M_Za_mu&M_Zb_mu]\n",
    "good_Zb_mu = Zb_mu[pt_Z_mu&M_Za_mu&M_Zb_mu]\n",
    "\n",
    "# adding the Z boson pairs (Higgs decay to 4 muons calculation)\n",
    "higgs4mu = good_Za_mu['0']+good_Za_mu['1'] + good_Zb_mu['0']+good_Zb_mu['1']\n",
    "\n",
    "# applying a mass range\n",
    "Higgs_4mu = higgs4mu[higgs4mu.mass>70]\n",
    "\n",
    "\n",
    "### Higgs to 4 muons ends ###"
   ]
  },
  {
   "cell_type": "markdown",
   "id": "atmospheric-baptist",
   "metadata": {},
   "source": [
    "This cells performs the rest of the analysis on the Higgs decay to 4 electrons. It's practically the same as the 4 muons decay. In order, it...\n",
    "* selects the entries of the good electrons that contain 4 or more electrons.\n",
    "* sorts the entries of 4 electrons from highest to lowest transverse momentum, pt.\n",
    "* selects the first 4 electrons from each element of the sorted array.\n",
    "* selects the entries of the array whose 4 electrons net charge is zero.\n",
    "* makes unique pairs out of the 4 electrons from every element of the *f4c0_e4* array. \n",
    "* selects the unique pairs with a net charge of zero. \n",
    "* uses the *closest* function to find the closest Z boson from the electron pairs, *Za_electrons*; flip *Za_electrons* to get the farthest Z bosons from the muons pairs, *Zb_electrons*.\n",
    "* apply the boolean returned from the *closest* electron pairs, *Za_electrons* and *Zb_electrons*, to the *e_pair_c0* array, to get the best electron pairs that decayed from these Z bosons.\n",
    "* flatten these arrays to lose their awkward-array nature.\n",
    "* get the mass cut for *Za_e* and *Zb_e*.\n",
    "* get the pt cut for the *Za_e* electrons.\n",
    "* apply the mass and pt cuts to *Za_e* and *Zb_e* to get the good Za and good Zb that decayed from the Higgs boson.\n",
    "* perform a sum of the first two electrons of every element from *good_Za_e* and *good_Zb_e* to get the Higgs boson.\n",
    "* apply a mass cut to get the entries with a Higgs mass greater than 70 GeV."
   ]
  },
  {
   "cell_type": "code",
   "execution_count": 10,
   "id": "pretty-medline",
   "metadata": {},
   "outputs": [],
   "source": [
    "### Higgs to 4 electrons starts ###\n",
    "\n",
    "# entries with four electrons\n",
    "e4 = good_e[ ak.num(good_e)>=4 ]\n",
    "\n",
    "# sorting the events from high to low transverse momentum\n",
    "e4_sorted = e4[ak.argsort(e4.pt, axis=-1, ascending=False)]\n",
    "\n",
    "# selecting the first 4 electrons from the sorted e4\n",
    "f4_e4_sorted = e4_sorted[:,0:4]\n",
    "\n",
    "# selecting the 4 electrons with a zero net charge\n",
    "f4c0_e4_sorted = f4_e4_sorted[ ak.sum(f4_e4_sorted[:,:,\"charge\"], axis=-1)==0 ]\n",
    "\n",
    "# creating electron pairs\n",
    "e_pair = ak.combinations(f4c0_e4_sorted, 2)\n",
    "\n",
    "# combinations with zero net charge\n",
    "e_pair_c0 = e_pair[ (e_pair[\"0\"].charge + e_pair[\"1\"].charge)==0 ]\n",
    "\n",
    "# get the closest Z boson (Za) and farthest Z boson (Zb)\n",
    "Z_electrons = ( e_pair_c0[\"0\"] + e_pair_c0[\"1\"] )\n",
    "Za_electrons = closest(Z_electrons)\n",
    "Zb_electrons = Za_electrons[:,::-1]\n",
    "\n",
    "# best combination of electrons\n",
    "Za_2e = e_pair_c0[Za_electrons]\n",
    "Zb_2e = e_pair_c0[Zb_electrons]\n",
    "\n",
    "# flatten the arrays\n",
    "Za_e = ak.flatten(Za_2e)\n",
    "Zb_e = ak.flatten(Zb_2e)\n",
    "\n",
    "# mass requirement\n",
    "M_Za_e = (((Za_e[\"0\"]+Za_e[\"1\"]).mass>40)&((Za_e[\"0\"]+Za_e[\"1\"]).mass<120))\n",
    "M_Zb_e = (((Zb_e[\"0\"]+Zb_e[\"1\"]).mass>12)&((Zb_e[\"0\"]+Zb_e[\"1\"]).mass<120))\n",
    "\n",
    "# transverse momentum requirement\n",
    "pt_Z_e = (Za_e[\"0\"].pt>20)&(Za_e[\"1\"].pt>10)\n",
    "\n",
    "# applying the cuts to get the good Z bosons\n",
    "good_Za_e = Za_e[pt_Z_e&M_Za_e&M_Zb_e]\n",
    "good_Zb_e = Zb_e[pt_Z_e&M_Za_e&M_Zb_e]\n",
    "\n",
    "# Adding the pair of Z bosons that decayed to 4 electrons\n",
    "higgs4e = good_Za_e[\"0\"]+good_Za_e[\"1\"] + good_Zb_e[\"0\"]+good_Zb_e[\"1\"]\n",
    "\n",
    "# applying a mass range\n",
    "Higgs_4e = higgs4e[higgs4e.mass>70]\n",
    "\n",
    "\n",
    "### Higgs to 4 electrons end ###"
   ]
  },
  {
   "cell_type": "markdown",
   "id": "expected-article",
   "metadata": {},
   "source": [
    "This cell performs the Higgs to 2 muons, 2 electrons decay analysis. It is rather similar to the 4 muons and 4 electrons decays; the main difference being that there is no need to consider unique pairs of muons and electrons. For this process, the Higgs decays into two Z bosons, where one decays into a pair of muons and the other into the pair of electrons.\n",
    "In order...\n",
    "* get the cut of events that contain entries of 2 or more good muons and good electrons.\n",
    "* apply *two_and_two* cut to the good muons and good electrons.\n",
    "* sort *good_mu* and *good_e* from highest to lowest transverse momentum, pt.\n",
    "* select the first two muons and electrons from each element of the *twomuons_sorted* and *twoelect_sorted* arrays.\n",
    "* get the charge cut for the events, that the net charge of the muon pairs and the net charge of the electron pairs is zero.\n",
    "* get the Z boson that decayed into muons, *Z_mu*, and the one that decayd into electrons, *Z_e*. \n",
    "* obtain the difference between the *Z_mu* and *Z_e* masses from the real Z boson mass\n",
    "* obtain a condition that test if the Z boson from the muon pairs is closer than the electron pairs. If the muons are closer, it performs a pt cut on the muons; if the electrons are closer, it performs the pt cut on the electrons.\n",
    "* obtain the entries and the parameters for the closest Z boson, Za, testing where the muons are closer to the Z than the electrons.\n",
    "* obtain the entries and the parameters for the farthest Z boson, Zb, testing where the electrons are closer to the Z than the muons.\n",
    "* obtain the mass cut for Za and Zb.\n",
    "* calculate the parameters for the Higgs boson using *Z_mu* and *Z_e*, and obtain the invariant mass of the Higgs.\n",
    "* apply the *charge_cut* and the *mass_cut* to the Higgs' mass array, *H_M*.\n",
    "* apply a mass cut to get the entries with a Higgs mass greater than 70 GeV."
   ]
  },
  {
   "cell_type": "code",
   "execution_count": 11,
   "id": "coordinated-square",
   "metadata": {},
   "outputs": [],
   "source": [
    "### Higgs to 2 muons, 2 electrons starts ###\n",
    "\n",
    "# two objects cut\n",
    "two_and_two = (ak.num(good_mu)>=2) & (ak.num(good_e)>=2)\n",
    "\n",
    "# entries with two objects\n",
    "twomuons = good_mu[ two_and_two ]\n",
    "\n",
    "twoelect = good_e[ two_and_two ]\n",
    "\n",
    "# sort from highest to lowest transverse momentum\n",
    "twomuons_sorted = twomuons[ak.argsort(twomuons.pt, axis=-1, ascending=False)]\n",
    "\n",
    "twoelect_sorted = twoelect[ak.argsort(twoelect.pt, axis=-1, ascending=False)]\n",
    "\n",
    "# first and second muons\n",
    "mu1 = twomuons_sorted[:,0]\n",
    "mu2 = twomuons_sorted[:,1]\n",
    "\n",
    "# first and second electrons\n",
    "e1 = twoelect_sorted[:,0]\n",
    "e2 = twoelect_sorted[:,1]\n",
    "\n",
    "## \n",
    "charge_cut = (mu1.charge + mu2.charge ==0) & (e1.charge + e2.charge ==0)\n",
    "##\n",
    "\n",
    "# Z boson from muon pairs\n",
    "Z_mu = mu1+mu2\n",
    "\n",
    "# Z boson from electron pairs\n",
    "Z_e = e1+e2\n",
    "\n",
    "# real Z boson and Z_mu mass difference\n",
    "dZmu = abs(Z_mu.mass - mZ)\n",
    "\n",
    "# real Z boson and Z_e mass difference\n",
    "dZe = abs(Z_e.mass - mZ)\n",
    "\n",
    "## condition to test which pair's mass is closer to the Z boson's mass\n",
    "mu_is_closer = dZmu < dZe\n",
    "\n",
    "ptZadaug = (mu_is_closer & ((mu1.pt > 20) & (mu2.pt > 10))) | (~mu_is_closer & ((e1.pt > 20) & (e2.pt > 10)))\n",
    "##\n",
    "\n",
    "# closest pair to the Z boson (Za)\n",
    "eZa = np.where(mu_is_closer, Z_mu.energy, Z_e.energy)\n",
    "pxZa = np.where(mu_is_closer, Z_mu.px, Z_e.px)\n",
    "pyZa = np.where(mu_is_closer, Z_mu.py, Z_e.py)\n",
    "pzZa = np.where(mu_is_closer, Z_mu.pz, Z_e.pz)\n",
    "pTZa = np.where(mu_is_closer, Z_mu.pt, Z_e.pt)\n",
    "mZa = np.where(mu_is_closer, Z_mu.mass, Z_e.mass)\n",
    "\n",
    "# farthest pair to the Z boson (Zb)\n",
    "eZb = np.where(mu_is_closer, Z_e.energy, Z_mu.energy)\n",
    "pxZb = np.where(mu_is_closer, Z_e.px, Z_mu.px)\n",
    "pyZb = np.where(mu_is_closer, Z_e.py, Z_mu.py)\n",
    "pzZb = np.where(mu_is_closer, Z_e.pz, Z_mu.pz)\n",
    "pTZb = np.where(mu_is_closer, Z_e.pt, Z_mu.pt)\n",
    "mZb = np.where(mu_is_closer, Z_e.mass, Z_mu.mass)\n",
    "\n",
    "## \n",
    "mass_cut = ( (ptZadaug) & ((mZa>40)&(mZa<120)) & ((mZb>12)&(mZb<120)) )\n",
    "##\n",
    "\n",
    "## calculating the Higgs from the sum of Za and Zb\n",
    "# energy\n",
    "H_en = Z_mu.energy + Z_e.energy\n",
    "\n",
    "# momentum\n",
    "H_px = Z_mu.px + Z_e.px\n",
    "H_py = Z_mu.py + Z_e.py\n",
    "H_pz = Z_mu.pz + Z_e.pz\n",
    "\n",
    "# momentum's magnitude\n",
    "H_P = np.sqrt(H_px**2 + H_py**2 + H_pz**2)\n",
    "\n",
    "# invariant mass\n",
    "H_M = np.sqrt(H_en**2 - H_P**2)\n",
    "\n",
    "# applying the charge and mass cuts\n",
    "higgs2mu2e = H_M[ charge_cut & mass_cut]\n",
    "\n",
    "# applying a mass range\n",
    "Higgs_2mu2e = higgs2mu2e[higgs2mu2e>70]"
   ]
  },
  {
   "cell_type": "markdown",
   "id": "forty-divorce",
   "metadata": {},
   "source": [
    "The following three cells will seperately plot the three Higgs to 4 leptons decays and saves them as a *png* in your local *Jypter Notebook* folder."
   ]
  },
  {
   "cell_type": "code",
   "execution_count": 12,
   "id": "physical-optics",
   "metadata": {},
   "outputs": [
    {
     "data": {
      "image/png": "[encoded data removed]",
      "text/plain": [
       "<Figure size 432x288 with 1 Axes>"
      ]
     },
     "metadata": {
      "needs_background": "light"
     },
     "output_type": "display_data"
    }
   ],
   "source": [
    "### Plots ###\n",
    "\n",
    "## Higgs -> 4 mu\n",
    "plt.hist(Higgs_4mu.mass, histtype='step', bins=bins)\n",
    "plt.title(r'Higgs -> ZZ -> 4mu')\n",
    "plt.xlabel('Higgs mass [GeV]')\n",
    "plt.ylabel('Number of events')\n",
    "plt.savefig('Higgs_4mu.png')"
   ]
  },
  {
   "cell_type": "code",
   "execution_count": 13,
   "id": "fourth-generator",
   "metadata": {},
   "outputs": [
    {
     "data": {
      "image/png": "[encoded data removed]",
      "text/plain": [
       "<Figure size 432x288 with 1 Axes>"
      ]
     },
     "metadata": {
      "needs_background": "light"
     },
     "output_type": "display_data"
    }
   ],
   "source": [
    "## Higgs -> 4e\n",
    "plt.hist(Higgs_4e.mass, histtype='step', bins=bins)\n",
    "plt.title(r'Higgs -> ZZ -> 4e')\n",
    "plt.xlabel('Higgs mass [GeV]')\n",
    "plt.ylabel('Number of events')\n",
    "plt.savefig('Higgs_4e.png')"
   ]
  },
  {
   "cell_type": "code",
   "execution_count": 14,
   "id": "monthly-nevada",
   "metadata": {},
   "outputs": [
    {
     "data": {
      "image/png": "[encoded data removed]",
      "text/plain": [
       "<Figure size 432x288 with 1 Axes>"
      ]
     },
     "metadata": {
      "needs_background": "light"
     },
     "output_type": "display_data"
    }
   ],
   "source": [
    "## Higgs -> 2mu2e\n",
    "plt.hist(Higgs_2mu2e, histtype='step', bins=bins)\n",
    "plt.title(r'Higgs -> ZZ -> 2mu2e')\n",
    "plt.xlabel('Higgs mass [GeV]')\n",
    "plt.ylabel('Number of events')\n",
    "plt.savefig('Higgs_2mu2e.png')"
   ]
  },
  {
   "cell_type": "code",
   "execution_count": null,
   "id": "cooked-dryer",
   "metadata": {},
   "outputs": [],
   "source": []
  }
 ],
 "metadata": {
  "kernelspec": {
   "display_name": "Python 3",
   "language": "python",
   "name": "python3"
  },
  "language_info": {
   "codemirror_mode": {
    "name": "ipython",
    "version": 3
   },
   "file_extension": ".py",
   "mimetype": "text/x-python",
   "name": "python",
   "nbconvert_exporter": "python",
   "pygments_lexer": "ipython3",
   "version": "3.7.10"
  }
 },
 "nbformat": 4,
 "nbformat_minor": 5
}
